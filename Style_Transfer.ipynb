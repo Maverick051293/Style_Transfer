{
 "cells": [
  {
   "cell_type": "code",
   "execution_count": 6,
   "metadata": {},
   "outputs": [],
   "source": [
    "import numpy as np\n",
    "import matplotlib.pyplot as plt\n",
    "import tensorflow as tf\n",
    "import PIL\n",
    "\n",
    "import vgg16"
   ]
  },
  {
   "cell_type": "code",
   "execution_count": 3,
   "metadata": {},
   "outputs": [
    {
     "data": {
      "text/plain": [
       "'1.8.0'"
      ]
     },
     "execution_count": 3,
     "metadata": {},
     "output_type": "execute_result"
    }
   ],
   "source": [
    "tf.__version__"
   ]
  },
  {
   "cell_type": "code",
   "execution_count": 7,
   "metadata": {},
   "outputs": [
    {
     "name": "stdout",
     "output_type": "stream",
     "text": [
      "Downloading VGG16 Model ...\n",
      "- Download progress: 100.0%\n",
      "Download finished. Extracting files.\n",
      "Done.\n"
     ]
    }
   ],
   "source": [
    "vgg16.maybe_download()"
   ]
  },
  {
   "cell_type": "code",
   "execution_count": 98,
   "metadata": {},
   "outputs": [],
   "source": [
    "# Some helper functions\n",
    "\n",
    "def load_image(file, size = (224,224)):\n",
    "    image = PIL.Image.open(file)\n",
    "    image = image.resize(size)\n",
    "    return np.array(image)\n",
    "\n",
    "\n",
    "def save_image(img,file_name):\n",
    "    image = img.clip(0.0,255.0)\n",
    "    # Converting to byte\n",
    "    image = image.astype(np.uint8)\n",
    "    \n",
    "    with open(file_name,'wb') as write_file:\n",
    "        PIL.Image.fromarray(image).save(write_file,'jpeg')\n",
    "\n",
    "\n",
    "def plot_single(image, fig_size = (7,7)):\n",
    "    fig = plt.figure(figsize = fig_size)\n",
    "    plt.imshow(image)\n",
    "    plt.axis('off')\n",
    "    \n",
    "def plot_images(content_image,style_image, mixed_image):\n",
    "    fig = plt.figure(figsize = (15,15))\n",
    "    images = [content_image,style_image,mixed_image]\n",
    "    for i in range(3):\n",
    "        ax = plt.subplot(1,3,i+1)\n",
    "        plt.imshow(images[i], interpolation='nearest')\n",
    "        plt.axis('off')"
   ]
  },
  {
   "cell_type": "code",
   "execution_count": null,
   "metadata": {},
   "outputs": [],
   "source": [
    "# Writing the Loss Functions"
   ]
  }
 ],
 "metadata": {
  "kernelspec": {
   "display_name": "Python 3",
   "language": "python",
   "name": "python3"
  },
  "language_info": {
   "codemirror_mode": {
    "name": "ipython",
    "version": 3
   },
   "file_extension": ".py",
   "mimetype": "text/x-python",
   "name": "python",
   "nbconvert_exporter": "python",
   "pygments_lexer": "ipython3",
   "version": "3.6.5"
  }
 },
 "nbformat": 4,
 "nbformat_minor": 2
}
